{
 "cells": [
  {
   "cell_type": "markdown",
   "id": "7528b03e",
   "metadata": {},
   "source": [
    "# Install the required libraries"
   ]
  },
  {
   "cell_type": "code",
   "execution_count": null,
   "id": "5dce03c3",
   "metadata": {},
   "outputs": [],
   "source": [
    "!pip install -q hvplot"
   ]
  },
  {
   "cell_type": "code",
   "execution_count": null,
   "id": "19f834b0",
   "metadata": {},
   "outputs": [],
   "source": [
    "pip install typing-extensions --upgrade"
   ]
  },
  {
   "cell_type": "code",
   "execution_count": null,
   "id": "348634a0",
   "metadata": {},
   "outputs": [],
   "source": [
    "!pip install hvplot"
   ]
  },
  {
   "cell_type": "code",
   "execution_count": null,
   "id": "594f477d",
   "metadata": {},
   "outputs": [],
   "source": [
    "!pip install GitPython==3.0.7"
   ]
  },
  {
   "cell_type": "code",
   "execution_count": null,
   "id": "8d706e7e",
   "metadata": {},
   "outputs": [],
   "source": [
    "import pandas as pd\n",
    "import numpy as np\n",
    "import matplotlib.pyplot as plt\n",
    "import seaborn as sns\n",
    "import hvplot.pandas\n",
    "%matplotlib inline\n",
    "sns.set_style(\"darkgrid\")"
   ]
  },
  {
   "cell_type": "code",
   "execution_count": null,
   "id": "42a04661",
   "metadata": {},
   "outputs": [],
   "source": [
    "DHP_rename_Remove_DHP_Case_Drop_more = pd.read_csv(\"ResTracker Export after preprocessing_V1.csv\")\n",
    "del DHP_rename_Remove_DHP_Case_Drop_more[DHP_rename_Remove_DHP_Case_Drop_more.columns[0]]"
   ]
  },
  {
   "cell_type": "code",
   "execution_count": null,
   "id": "b71d8c91",
   "metadata": {},
   "outputs": [],
   "source": [
    "X = DHP_rename_Remove_DHP_Case_Drop_more[['Gas Date', 'Gas Rate(TJ/d)', 'Water Rate(m3/d)', 'Lat','Long','Cum Gas(bcf)', 'Cum Water(10e3 m3)', 'Cum Online Days',\n",
    "                 'CP(kPag)','Depth(m)']]\n",
    "y = DHP_rename_Remove_DHP_Case_Drop_more['DHP(psi)']"
   ]
  },
  {
   "cell_type": "markdown",
   "id": "4e793777",
   "metadata": {},
   "source": [
    "# Visualize the variable histogram distribution"
   ]
  },
  {
   "cell_type": "code",
   "execution_count": null,
   "id": "4540bd45",
   "metadata": {},
   "outputs": [],
   "source": [
    "DHP_rename_Remove_DHP_Case_Drop_more.hvplot.hist(\"Water Rate(m3/d)\")"
   ]
  },
  {
   "cell_type": "code",
   "execution_count": null,
   "id": "3a9d0ab1",
   "metadata": {},
   "outputs": [],
   "source": [
    "DHP_rename_Remove_DHP_Case_Drop_more.hvplot.hist(\"Gas Rate(TJ/d)\")"
   ]
  },
  {
   "cell_type": "code",
   "execution_count": null,
   "id": "67959b6d",
   "metadata": {},
   "outputs": [],
   "source": [
    "DHP_rename_Remove_DHP_Case_Drop_more.hvplot.hist(\"Lat\")"
   ]
  },
  {
   "cell_type": "code",
   "execution_count": null,
   "id": "205382dd",
   "metadata": {},
   "outputs": [],
   "source": [
    "DHP_rename_Remove_DHP_Case_Drop_more.hvplot.hist(\"Long\")"
   ]
  },
  {
   "cell_type": "code",
   "execution_count": null,
   "id": "744cb5c3",
   "metadata": {},
   "outputs": [],
   "source": [
    "DHP_rename_Remove_DHP_Case_Drop_more.hvplot.hist('Cum Gas(bcf)')"
   ]
  },
  {
   "cell_type": "code",
   "execution_count": null,
   "id": "a46083f3",
   "metadata": {},
   "outputs": [],
   "source": [
    "DHP_rename_Remove_DHP_Case_Drop_more.hvplot.hist('Cum Water(10e3 m3)')"
   ]
  },
  {
   "cell_type": "code",
   "execution_count": null,
   "id": "9850728a",
   "metadata": {},
   "outputs": [],
   "source": [
    "DHP_rename_Remove_DHP_Case_Drop_more.hvplot.hist('Cum Online Days')"
   ]
  },
  {
   "cell_type": "code",
   "execution_count": null,
   "id": "4f7f593b",
   "metadata": {},
   "outputs": [],
   "source": [
    "DHP_rename_Remove_DHP_Case_Drop_more.hvplot.hist('CP(kPag)')"
   ]
  },
  {
   "cell_type": "code",
   "execution_count": null,
   "id": "1d492863",
   "metadata": {},
   "outputs": [],
   "source": [
    "DHP_rename_Remove_DHP_Case_Drop_more.hvplot.scatter(x='Gas Rate(TJ/d)', y='DHP(psi)')"
   ]
  },
  {
   "cell_type": "code",
   "execution_count": null,
   "id": "58f74a49",
   "metadata": {},
   "outputs": [],
   "source": [
    "DHP_rename_Remove_DHP_Case_Drop_more.hvplot.scatter(x='Depth(m)', y='DHP(psi)')"
   ]
  },
  {
   "cell_type": "markdown",
   "id": "50c919b6",
   "metadata": {},
   "source": [
    "# Split the test and training dataset"
   ]
  },
  {
   "cell_type": "code",
   "execution_count": null,
   "id": "e32613d4",
   "metadata": {},
   "outputs": [],
   "source": [
    "from sklearn.model_selection import train_test_split\n",
    "\n",
    "X_train, X_test, y_train, y_test = train_test_split(X, y, test_size=0.3, random_state=42)"
   ]
  },
  {
   "cell_type": "code",
   "execution_count": null,
   "id": "3b4fced8",
   "metadata": {},
   "outputs": [],
   "source": [
    "from sklearn import metrics\n",
    "from sklearn.model_selection import cross_val_score\n",
    "\n",
    "def cross_val(model):\n",
    "    pred = cross_val_score(model, X, y, cv=10)\n",
    "    return pred.mean()\n",
    "\n",
    "def print_evaluate(true, predicted):  \n",
    "    mae = metrics.mean_absolute_error(true, predicted)\n",
    "    mse = metrics.mean_squared_error(true, predicted)\n",
    "    rmse = np.sqrt(metrics.mean_squared_error(true, predicted))\n",
    "    r2_square = metrics.r2_score(true, predicted)\n",
    "    print('MAE:', mae)\n",
    "    print('MSE:', mse)\n",
    "    print('RMSE:', rmse)\n",
    "    print('R2 Square', r2_square)\n",
    "    print('__________________________________')\n",
    "    \n",
    "def evaluate(true, predicted):\n",
    "    mae = metrics.mean_absolute_error(true, predicted)\n",
    "    mse = metrics.mean_squared_error(true, predicted)\n",
    "    rmse = np.sqrt(metrics.mean_squared_error(true, predicted))\n",
    "    r2_square = metrics.r2_score(true, predicted)\n",
    "    return mae, mse, rmse, r2_square"
   ]
  },
  {
   "cell_type": "markdown",
   "id": "0ed83a85",
   "metadata": {},
   "source": [
    "# Standardize the dataset"
   ]
  },
  {
   "cell_type": "code",
   "execution_count": null,
   "id": "130000d7",
   "metadata": {},
   "outputs": [],
   "source": [
    "from sklearn.preprocessing import StandardScaler\n",
    "from sklearn.pipeline import Pipeline\n",
    "\n",
    "pipeline = Pipeline([\n",
    "    ('std_scalar', StandardScaler())\n",
    "])\n",
    "\n",
    "X_train = pipeline.fit_transform(X_train)\n",
    "X_test = pipeline.transform(X_test)"
   ]
  },
  {
   "cell_type": "markdown",
   "id": "1eb2128a",
   "metadata": {},
   "source": [
    "# Build the ANN model"
   ]
  },
  {
   "cell_type": "code",
   "execution_count": null,
   "id": "7d6f67d7",
   "metadata": {},
   "outputs": [],
   "source": [
    "from tensorflow.keras.models import Sequential\n",
    "from tensorflow.keras.layers import Input, Dense, Activation, Dropout\n",
    "from tensorflow.keras.optimizers import Adam\n",
    "\n",
    "X_train = np.array(X_train)\n",
    "X_test = np.array(X_test)\n",
    "y_train = np.array(y_train)\n",
    "y_test = np.array(y_test)\n",
    "\n",
    "model = Sequential()\n",
    "\n",
    "model.add(Dense(X_train.shape[1], activation='relu'))\n",
    "model.add(Dense(32, activation='relu'))\n",
    "# model.add(Dropout(0.2))\n",
    "\n",
    "model.add(Dense(64, activation='relu'))\n",
    "# model.add(Dropout(0.2))\n",
    "\n",
    "model.add(Dense(128, activation='relu'))\n",
    "# model.add(Dropout(0.2))\n",
    "\n",
    "model.add(Dense(512, activation='relu'))\n",
    "model.add(Dropout(0.1))\n",
    "model.add(Dense(1))\n",
    "\n",
    "model.compile(optimizer=Adam(0.01), loss='mse')\n",
    "\n",
    "r = model.fit(X_train, y_train,\n",
    "              validation_data=(X_test,y_test),\n",
    "              batch_size=256,\n",
    "              epochs=100)"
   ]
  },
  {
   "cell_type": "code",
   "execution_count": null,
   "id": "72c86b11",
   "metadata": {},
   "outputs": [],
   "source": [
    "y_test\n",
    "test_pred\n",
    "test_pred_array = test_pred.ravel()\n",
    "test_pred_array"
   ]
  },
  {
   "cell_type": "code",
   "execution_count": null,
   "id": "603f01e1",
   "metadata": {},
   "outputs": [],
   "source": [
    "pd.DataFrame({'True Values': y_test, 'Predicted Values': test_pred_array }).hvplot.scatter(x='True Values', y='Predicted Values')"
   ]
  },
  {
   "cell_type": "markdown",
   "id": "07bd5e5e",
   "metadata": {},
   "source": [
    "# Loss evaluation"
   ]
  },
  {
   "cell_type": "code",
   "execution_count": null,
   "id": "b29f1a35",
   "metadata": {},
   "outputs": [],
   "source": [
    "pd.DataFrame(r.history)"
   ]
  },
  {
   "cell_type": "code",
   "execution_count": null,
   "id": "17c9aecc",
   "metadata": {},
   "outputs": [],
   "source": [
    "pd.DataFrame(r.history).hvplot.line(y=['loss', 'val_loss'])"
   ]
  },
  {
   "cell_type": "code",
   "execution_count": null,
   "id": "f07b0810",
   "metadata": {},
   "outputs": [],
   "source": [
    "results_df = pd.DataFrame(data=[[\"Linear Regression\", *evaluate(y_test, test_pred) , cross_val(LinearRegression())]], \n",
    "                          columns=['Model', 'MAE', 'MSE', 'RMSE', 'R2 Square', \"Cross Validation\"])"
   ]
  },
  {
   "cell_type": "markdown",
   "id": "96c6223e",
   "metadata": {},
   "source": [
    "# Model accuracy evalution"
   ]
  },
  {
   "cell_type": "code",
   "execution_count": null,
   "id": "096af6e0",
   "metadata": {},
   "outputs": [],
   "source": [
    "test_pred = model.predict(X_test)\n",
    "train_pred = model.predict(X_train)\n",
    "\n",
    "print('Test set evaluation:\\n_____________________________________')\n",
    "print_evaluate(y_test, test_pred)\n",
    "\n",
    "print('Train set evaluation:\\n_____________________________________')\n",
    "print_evaluate(y_train, train_pred)\n",
    "\n",
    "results_df_2 = pd.DataFrame(data=[[\"Artficial Neural Network\", *evaluate(y_test, test_pred), 0]], \n",
    "                            columns=['Model', 'MAE', 'MSE', 'RMSE', 'R2 Square', 'Cross Validation'])\n",
    "results_df = results_df.append(results_df_2, ignore_index=True)"
   ]
  },
  {
   "cell_type": "code",
   "execution_count": null,
   "id": "bca2ac8b",
   "metadata": {},
   "outputs": [],
   "source": [
    "model.summary()"
   ]
  },
  {
   "cell_type": "markdown",
   "id": "485b157c",
   "metadata": {},
   "source": [
    "# Tensorflow modle save"
   ]
  },
  {
   "cell_type": "code",
   "execution_count": null,
   "id": "e5157443",
   "metadata": {},
   "outputs": [],
   "source": [
    "tensorflow.saved_model.save(model,\"C:/Users/fren/Desktop/ANN Models\")"
   ]
  },
  {
   "cell_type": "code",
   "execution_count": null,
   "id": "099f28c0",
   "metadata": {},
   "outputs": [],
   "source": [
    "tensorflow.saved_model.load(\"C:/Users/fren/Desktop/ANN Models\")"
   ]
  },
  {
   "cell_type": "markdown",
   "id": "dbab0bf7",
   "metadata": {},
   "source": [
    "# Import and standard scaler the prediction dataset"
   ]
  },
  {
   "cell_type": "code",
   "execution_count": null,
   "id": "7b5b0779",
   "metadata": {},
   "outputs": [],
   "source": [
    "DHP_Pred_Dataset = pd.read_csv('ResTracker Export_Filtered_ANN_DHP_prediction_V1.csv')"
   ]
  },
  {
   "cell_type": "code",
   "execution_count": null,
   "id": "22fde17b",
   "metadata": {},
   "outputs": [],
   "source": [
    "DHP_Pred_Dataset_rename = DHP_Pred_Dataset.rename(columns={'Latitude':'Lat','Longitude':'Long','Gas Rate (TJ/d)':'Gas Rate(TJ/d)', 'Water Rate (m3/d)':'Water Rate(m3/d)','Cumulative Gas(bcf)':'Cum Gas(bcf)','Cumulative Water(10e3 m3)':'Cum Water(10e3 m3)','Cumulative Online Days':'Cum Online Days','Casing Pressure (kPag)':'CP(kPag)','Downhole Pressure (psi)':'DHP(psi)','Depth_Argle_m':'Depth(m)'})"
   ]
  },
  {
   "cell_type": "code",
   "execution_count": null,
   "id": "e5961116",
   "metadata": {},
   "outputs": [],
   "source": [
    "DHP_Pred_Dataset_Pre = DHP_Pred_Dataset_rename [['Gas Date', 'Gas Rate(TJ/d)', 'Water Rate(m3/d)','Lat','Long', 'Cum Gas(bcf)', 'Cum Water(10e3 m3)', 'Cum Online Days',\n",
    "                 'CP(kPag)','Depth(m)']]"
   ]
  },
  {
   "cell_type": "code",
   "execution_count": null,
   "id": "44e082a5",
   "metadata": {},
   "outputs": [],
   "source": [
    "import numpy as np\n",
    "scaler = StandardScaler()\n",
    "DHP_Prediction = scaler.fit_transform (DHP_Pred_Dataset_Pre)"
   ]
  },
  {
   "cell_type": "code",
   "execution_count": null,
   "id": "8e7814e2",
   "metadata": {},
   "outputs": [],
   "source": [
    "DHP_Pred = model.predict(DHP_Prediction).ravel()"
   ]
  },
  {
   "cell_type": "code",
   "execution_count": null,
   "id": "aa6b1031",
   "metadata": {},
   "outputs": [],
   "source": [
    "DHP_Pred"
   ]
  },
  {
   "cell_type": "markdown",
   "id": "2def10cb",
   "metadata": {},
   "source": [
    "# Obtain the predicted DHP values"
   ]
  },
  {
   "cell_type": "code",
   "execution_count": null,
   "id": "c469b01a",
   "metadata": {},
   "outputs": [],
   "source": [
    "DHP_Pred = pd.DataFrame(DHP_Pred)\n",
    "DHP_Pred.to_csv(\"output_for_DHP_V1.CSV\")"
   ]
  }
 ],
 "metadata": {
  "kernelspec": {
   "display_name": "Python 3",
   "language": "python",
   "name": "python3"
  },
  "language_info": {
   "codemirror_mode": {
    "name": "ipython",
    "version": 3
   },
   "file_extension": ".py",
   "mimetype": "text/x-python",
   "name": "python",
   "nbconvert_exporter": "python",
   "pygments_lexer": "ipython3",
   "version": "3.8.8"
  }
 },
 "nbformat": 4,
 "nbformat_minor": 5
}
