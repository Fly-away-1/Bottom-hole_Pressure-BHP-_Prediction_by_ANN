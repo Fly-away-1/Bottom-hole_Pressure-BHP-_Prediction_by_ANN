{
 "cells": [
  {
   "cell_type": "markdown",
   "id": "ecb0d51c",
   "metadata": {},
   "source": [
    "# Install tqdm library"
   ]
  },
  {
   "cell_type": "code",
   "execution_count": null,
   "id": "b6c05c3a",
   "metadata": {},
   "outputs": [],
   "source": [
    "# Supressing the warning messages\n",
    "import warnings\n",
    "warnings.filterwarnings('ignore')\n",
    "!pip3 install tqdm"
   ]
  },
  {
   "cell_type": "code",
   "execution_count": null,
   "id": "c03a4b12",
   "metadata": {},
   "outputs": [],
   "source": [
    "import pandas as pd\n",
    "import numpy as np\n",
    "DHP=pd.read_csv('ResTracker Export_Filtered_ANN_Train&Test_Updated.csv', encoding='latin')\n",
    "print('Shape before deleting duplicate values:',DHP.shape)\n",
    "DHP_rename = DHP.rename(columns={'Latitude':'Lat','Longitude':'Long','Gas Rate (TJ/d)':'Gas Rate(TJ/d)', 'Water Rate (m3/d)':'Water Rate(m3/d)','Cumulative Gas(bcf)':'Cum Gas(bcf)','Cumulative Water(10e3 m3)':'Cum Water(10e3 m3)','Cumulative Online Days':'Cum Online Days','Casing Pressure (kPag)':'CP(kPag)','Downhole Pressure (psi)':'BHP(psi)','Depth_Argle_m':'Depth(m)'})\n",
    "# Removing duplicate rows if any\n",
    "DHP_rename = DHP_rename.drop_duplicates()\n",
    "print('Shape After deleting duplicate values:', DHP.shape)"
   ]
  },
  {
   "cell_type": "markdown",
   "id": "d79e1f29",
   "metadata": {},
   "source": [
    "# Visualize the dataset variables"
   ]
  },
  {
   "cell_type": "code",
   "execution_count": null,
   "id": "a0621f6a",
   "metadata": {},
   "outputs": [],
   "source": [
    "%matplotlib inline\n",
    "# Creating Bar chart as the Target variable is Continuous\n",
    "DHP_rename.hist(['Gas Rate(TJ/d)','Water Rate(m3/d)','Cum Gas(bcf)','Cum Water(10e3 m3)','Cum Online Days','CP(kPag)','BHP(psi)','Depth(m)'],figsize=(20,10))"
   ]
  },
  {
   "cell_type": "markdown",
   "id": "115ab71b",
   "metadata": {},
   "source": [
    "# Creating Bar chart for the Target variable as It is Continuous Value"
   ]
  },
  {
   "cell_type": "code",
   "execution_count": null,
   "id": "1c733efd",
   "metadata": {},
   "outputs": [],
   "source": [
    "%matplotlib inline\n",
    "# Creating Bar chart as the Target variable is Continuous\n",
    "DHP_rename['BHP(psi)'].hist()"
   ]
  },
  {
   "cell_type": "markdown",
   "id": "3fad3660",
   "metadata": {},
   "source": [
    "# Import required libraries"
   ]
  },
  {
   "cell_type": "code",
   "execution_count": null,
   "id": "7f3dae92",
   "metadata": {},
   "outputs": [],
   "source": [
    "import matplotlib.pyplot as plt\n",
    "import seaborn as sns\n",
    "\n",
    "from sklearn.preprocessing import LabelEncoder\n",
    "from sklearn.model_selection import train_test_split\n",
    "from sklearn.preprocessing import StandardScaler\n",
    "from sklearn.pipeline import Pipeline\n",
    "\n",
    "from sklearn.linear_model import LinearRegression\n",
    "from sklearn. linear_model import Lasso\n",
    "from sklearn.tree import DecisionTreeRegressor\n",
    "from sklearn.ensemble import RandomForestRegressor\n",
    "from sklearn.neighbors import KNeighborsRegressor\n",
    "from xgboost import XGBRegressor\n",
    "\n",
    "from sklearn.model_selection import cross_val_score\n",
    "from sklearn.metrics import mean_squared_error\n",
    "from sklearn import metrics "
   ]
  },
  {
   "cell_type": "markdown",
   "id": "085bf4d3",
   "metadata": {},
   "source": [
    "# Check the dataset information details"
   ]
  },
  {
   "cell_type": "code",
   "execution_count": null,
   "id": "52da212d",
   "metadata": {},
   "outputs": [],
   "source": [
    "DHP_rename.info()"
   ]
  },
  {
   "cell_type": "markdown",
   "id": "5cdf8c99",
   "metadata": {},
   "source": [
    "# Data Description"
   ]
  },
  {
   "cell_type": "code",
   "execution_count": null,
   "id": "f175f3da",
   "metadata": {},
   "outputs": [],
   "source": [
    "DHP_rename.describe(include='all').T"
   ]
  },
  {
   "cell_type": "markdown",
   "id": "a7260a07",
   "metadata": {},
   "source": [
    "# Remove the Outliers of BHP based on domain knowledge"
   ]
  },
  {
   "cell_type": "code",
   "execution_count": null,
   "id": "cff7b85e",
   "metadata": {},
   "outputs": [],
   "source": [
    "#Remove the high DHP\n",
    "DHP_rename_Remove_DHP=DHP_rename[DHP_rename['BHP(psi)']<450]\n",
    "#DHP_Data.describe(include='all').T.to_excel(\"Statistics_Table.xlsx\")\n",
    "DHP_rename_Remove_DHP.describe(include='all').T"
   ]
  },
  {
   "cell_type": "markdown",
   "id": "7ffb0ada",
   "metadata": {},
   "source": [
    "# Remove the Outliers of High Casing Pressure based on Domain Knowledge"
   ]
  },
  {
   "cell_type": "code",
   "execution_count": null,
   "id": "893c8085",
   "metadata": {},
   "outputs": [],
   "source": [
    "DHP_rename_Remove_DHP_Case.describe(include='all').T"
   ]
  },
  {
   "cell_type": "code",
   "execution_count": null,
   "id": "a04b30e3",
   "metadata": {},
   "outputs": [],
   "source": [
    "# select the numeric data from D1 dataset for variable distribution analysis and identify the data quality as well\n",
    "DHP_rename_Remove_DHP_Case_numeric = DHP_rename_Remove_DHP_Case.select_dtypes(include=[np.number]).iloc[:,:]\n",
    "DHP_rename_Remove_DHP_Case_vars = list(DHP_rename_Remove_DHP_Case.columns.values)"
   ]
  },
  {
   "cell_type": "markdown",
   "id": "bb2923b8",
   "metadata": {},
   "source": [
    "# Define the function to plot all the numerical columns to better understand data distributions post data-processing"
   ]
  },
  {
   "cell_type": "code",
   "execution_count": null,
   "id": "8a9a19e5",
   "metadata": {},
   "outputs": [],
   "source": [
    "# define the function to plot all the numerical columns to help understand data distributions \n",
    "def check_numeric_var(var, name):\n",
    "    print('\\n>>>>>>>>>>', name, '<<<<<<<<<<\\n')\n",
    "    print(var.describe())\n",
    "    print(\"\\nSkew is\", round(var.skew(axis=None, skipna=True),4))\n",
    "    fig = plt.figure(figsize=(16,6))\n",
    "    plt.subplot(1,2,1)\n",
    "    hist_plot = sns.distplot(var) # plotting the histogram plot for data distribution\n",
    "    plt.subplot(1,2,2)\n",
    "    box_plot= sns.boxplot(var) #plotting the boxplot for data quality check\n",
    "    plt.show()\n",
    "    x = 0 # go thru all the columns from DHP dataset\n",
    "    while x < 28:  \n",
    "        print('&', end=\" \")\n",
    "        x = x + 1 \n",
    "    print('\\n'); "
   ]
  },
  {
   "cell_type": "code",
   "execution_count": null,
   "id": "b5110be1",
   "metadata": {},
   "outputs": [],
   "source": [
    "# apply the define function to plot the distribution and boxplot for numerical data columns in D1\n",
    "for n in DHP_rename_Remove_DHP_Case_vars:\n",
    "    check_numeric_var(DHP_rename_Remove_DHP_Case[n],n)"
   ]
  },
  {
   "cell_type": "code",
   "execution_count": null,
   "id": "6fec709a",
   "metadata": {},
   "outputs": [],
   "source": [
    "DHP_rename_Remove_DHP_Case.hist(['Gas Date','Gas Rate(TJ/d)','Water Rate(m3/d)','Lat','Long','Cum Gas(bcf)', 'Cum Water(10e3 m3)', 'Cum Online Days','CP(kPag)','Depth(m)','DHP(psi)'],figsize=(20,15))"
   ]
  },
  {
   "cell_type": "markdown",
   "id": "ace596ec",
   "metadata": {},
   "source": [
    "# Seaborn Joint Plots between Variables and Target"
   ]
  },
  {
   "cell_type": "code",
   "execution_count": null,
   "id": "c8272b35",
   "metadata": {},
   "outputs": [],
   "source": [
    "ContinuousCols=['Gas Date', 'Gas Rate(TJ/d)', 'Water Rate(m3/d)', 'Lat', 'Long', 'Cum Gas(bcf)', 'Cum Water(10e3 m3)', 'Cum Online Days',\n",
    "                 'CP(kPag)','Depth(m)']\n",
    "\n",
    "# Plotting scatter chart for each predictor vs the target variable\n",
    "for predictor in ContinuousCols:\n",
    " #   DHP_Remove_DHP_Case.plot.scatter(x=predictor, y='DHP (psi)', figsize=(10,5), title=predictor+\" VS \"+ 'DHP (psi)')\n",
    "\n",
    "    g = sns.jointplot(x=predictor,y='BHP(psi)',data =DHP_rename_Remove_DHP_Case,ratio=2,scatter_kws={'s': 3, 'linewidth': 0.1},marginal_kws=dict(fill=False),kind=\"reg\",joint_kws={'color':'blue','ci':True})\n",
    "    regline = g.ax_joint.get_lines()[0]\n",
    "    regline.set_color('red')\n",
    "    regline.set_zorder(1)"
   ]
  },
  {
   "cell_type": "markdown",
   "id": "5f5f9cb3",
   "metadata": {},
   "source": [
    "# Calculate the skew and kurtosis for the variables"
   ]
  },
  {
   "cell_type": "code",
   "execution_count": null,
   "id": "cf7adc28",
   "metadata": {},
   "outputs": [],
   "source": [
    "# Calculate the skewness of the dataset\n",
    "DHP_rename_Remove_DHP_Case.skew(axis=0,skipna=True)"
   ]
  },
  {
   "cell_type": "code",
   "execution_count": null,
   "id": "abd7ea50",
   "metadata": {},
   "outputs": [],
   "source": [
    "# Calculate the skewness of the dataset\n",
    "DHP_rename_Remove_DHP_Case.kurtosis(axis=0,skipna=True)"
   ]
  },
  {
   "cell_type": "markdown",
   "id": "8e6ca2a9",
   "metadata": {},
   "source": [
    "# Examining correlation matrix using heatmap"
   ]
  },
  {
   "cell_type": "code",
   "execution_count": null,
   "id": "702fb3b2",
   "metadata": {},
   "outputs": [],
   "source": [
    "#cmap = sns.diverging_palette(205, 133, 63, as_cmap=True)\n",
    "#cols = ([\"#682F2F\", \"#9E726F\", \"#D6B2B1\", \"#B9C0C9\", \"#9F8A78\", \"#F3AB60\"])\n",
    "corrmat= DHP_rename_Remove_DHP_Case.corr()\n",
    "sns.set(font_scale=1.2)\n",
    "f, ax = plt.subplots(figsize=(14,12))\n",
    "# create a mask\n",
    "mask = np.zeros_like(corrmat, dtype=np.bool)\n",
    "mask[np.triu_indices_from(mask)] = True\n",
    "np.fill_diagonal(mask, False)\n",
    "# create heatmap\n",
    "sns.heatmap(corrmat,mask=mask,center=0,cmap=\"coolwarm\",annot=True)\n",
    "plt.xticks(rotation=45) \n",
    "plt.savefig(\"heat_map.jpg\")"
   ]
  },
  {
   "cell_type": "markdown",
   "id": "da70dfc8",
   "metadata": {},
   "source": [
    "# Examine the kde pairplots "
   ]
  },
  {
   "cell_type": "code",
   "execution_count": null,
   "id": "e9716d62",
   "metadata": {},
   "outputs": [],
   "source": [
    "# DHP_rename_Remove_DHP_Case_Drop = DHP_rename_Remove_DHP_Case.drop(['Lat','Long'], axis=1)\n",
    "g=sns.PairGrid(DHP_rename_Remove_DHP_Case,hue='Status')\n",
    "g.map_diag(plt.hist)\n",
    "#g.map_offdiag(sns.scatterplot, size=DHP_rename_Remove_DHP_Case_Drop['Status'])\n",
    "#g.map_offdiag(sns.scatterplot)\n",
    "g.map_upper(sns.kdeplot,levels=5,color='0.2')\n",
    "g.map_lower(sns.scatterplot)\n",
    "g.add_legend(title='',adjust_subtitles=True)\n",
    "plt.savefig(\"Pairplot.jpg\")"
   ]
  },
  {
   "cell_type": "markdown",
   "id": "d18b08c3",
   "metadata": {},
   "source": [
    "# Export the preprocessing data for ANN model"
   ]
  },
  {
   "cell_type": "code",
   "execution_count": null,
   "id": "474a2d96",
   "metadata": {},
   "outputs": [],
   "source": [
    "# DHP_rename_Remove_DHP_Case_Drop_more = DHP_rename_Remove_DHP_Case.drop(['Lat','Long','Status','Pumping_Status'], axis=1)\n",
    "# Remove the Lat and Long for another exercise\n",
    "DHP_rename_Remove_DHP_Case_Drop_more = DHP_rename_Remove_DHP_Case.drop(['Status','Pumping_Status'], axis=1)\n",
    "DHP_rename_Remove_DHP_Case_Drop_more.to_csv(\"ResTracker Export after preprocessing_V1.csv\")"
   ]
  }
 ],
 "metadata": {
  "kernelspec": {
   "display_name": "Python 3",
   "language": "python",
   "name": "python3"
  },
  "language_info": {
   "codemirror_mode": {
    "name": "ipython",
    "version": 3
   },
   "file_extension": ".py",
   "mimetype": "text/x-python",
   "name": "python",
   "nbconvert_exporter": "python",
   "pygments_lexer": "ipython3",
   "version": "3.8.8"
  }
 },
 "nbformat": 4,
 "nbformat_minor": 5
}
